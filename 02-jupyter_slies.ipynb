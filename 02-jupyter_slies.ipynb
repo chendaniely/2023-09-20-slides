{
 "cells": [
  {
   "cell_type": "markdown",
   "id": "bde6d3ac-fe64-42bd-81e4-2f4b6970029c",
   "metadata": {
    "editable": true,
    "slideshow": {
     "slide_type": "slide"
    },
    "tags": []
   },
   "source": [
    "# Hello Intro"
   ]
  },
  {
   "cell_type": "markdown",
   "id": "b50e11e3-3938-402f-bf6e-28949951a13f",
   "metadata": {
    "editable": true,
    "slideshow": {
     "slide_type": "slide"
    },
    "tags": []
   },
   "source": [
    "## This is a slide\n",
    "\n",
    "- with 1 buillet"
   ]
  },
  {
   "cell_type": "code",
   "execution_count": 3,
   "id": "822ca1cc-b95a-460b-b774-f95f533f7ee4",
   "metadata": {
    "editable": true,
    "slideshow": {
     "slide_type": ""
    },
    "tags": []
   },
   "outputs": [
    {
     "name": "stdout",
     "output_type": "stream",
     "text": [
      "3 + 3 = 6\n"
     ]
    }
   ],
   "source": [
    "import pandas as pd\n",
    "\n",
    "print(f\"3 + 3 = {3 + 3}\")"
   ]
  },
  {
   "cell_type": "code",
   "execution_count": 13,
   "id": "1b54d658-ba59-4802-9070-8c18ead556a4",
   "metadata": {},
   "outputs": [
    {
     "data": {
      "text/plain": [
       "'hellohellohellohellohellohellohellohellohellohello'"
      ]
     },
     "execution_count": 13,
     "metadata": {},
     "output_type": "execute_result"
    }
   ],
   "source": [
    "10 * \"hello\""
   ]
  },
  {
   "cell_type": "code",
   "execution_count": null,
   "id": "a35f71b2-0f7f-4761-b0c8-743f186cff5d",
   "metadata": {
    "editable": true,
    "slideshow": {
     "slide_type": ""
    },
    "tags": []
   },
   "outputs": [],
   "source": []
  }
 ],
 "metadata": {
  "kernelspec": {
   "display_name": "Python 3 (ipykernel)",
   "language": "python",
   "name": "python3"
  },
  "language_info": {
   "codemirror_mode": {
    "name": "ipython",
    "version": 3
   },
   "file_extension": ".py",
   "mimetype": "text/x-python",
   "name": "python",
   "nbconvert_exporter": "python",
   "pygments_lexer": "ipython3",
   "version": "3.11.5"
  }
 },
 "nbformat": 4,
 "nbformat_minor": 5
}
